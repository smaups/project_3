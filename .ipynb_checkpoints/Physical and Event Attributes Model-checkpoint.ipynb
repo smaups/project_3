{
 "cells": [
  {
   "cell_type": "markdown",
   "metadata": {
    "slideshow": {
     "slide_type": "slide"
    }
   },
   "source": [
    "## Dependencies"
   ]
  },
  {
   "cell_type": "code",
   "execution_count": 1,
   "metadata": {},
   "outputs": [],
   "source": [
    "import numpy as np\n",
    "import pandas as pd\n",
    "import tensorflow"
   ]
  },
  {
   "cell_type": "markdown",
   "metadata": {},
   "source": [
    "# Olympic Data\n",
    "We pared down a Kaggle data set to the Summer data. We included only the data necessary for our searching.\n",
    "## The Dataset\n",
    "The following information about each participant in each event are included within the CSV:\n",
    "\n",
    "* ID: unique identifier for each participant\n",
    "* Name: each participant's name\n",
    "* Sex: M for male, F for female\n",
    "* Age: in years (11 to 71)\n",
    "* Height: in cm\n",
    "* Weight: in kilograms\n",
    "* Team: Group the participant is competing with\n",
    "* NOC: Three letter country abbreviation\n",
    "* Year: Year of Olympic event (1896-2016)\n",
    "* Sport: Category of competetion\n",
    "* Medal: NA(no medal), Bronze, Silver, Gold"
   ]
  },
  {
   "cell_type": "code",
   "execution_count": 2,
   "metadata": {},
   "outputs": [
    {
     "data": {
      "text/html": [
       "<div>\n",
       "<style scoped>\n",
       "    .dataframe tbody tr th:only-of-type {\n",
       "        vertical-align: middle;\n",
       "    }\n",
       "\n",
       "    .dataframe tbody tr th {\n",
       "        vertical-align: top;\n",
       "    }\n",
       "\n",
       "    .dataframe thead th {\n",
       "        text-align: right;\n",
       "    }\n",
       "</style>\n",
       "<table border=\"1\" class=\"dataframe\">\n",
       "  <thead>\n",
       "    <tr style=\"text-align: right;\">\n",
       "      <th></th>\n",
       "      <th>ID</th>\n",
       "      <th>Name</th>\n",
       "      <th>Sex</th>\n",
       "      <th>Age</th>\n",
       "      <th>Height</th>\n",
       "      <th>Weight</th>\n",
       "      <th>Team</th>\n",
       "      <th>NOC</th>\n",
       "      <th>Year</th>\n",
       "      <th>Sport</th>\n",
       "      <th>Medal_Type</th>\n",
       "      <th>Medals</th>\n",
       "    </tr>\n",
       "  </thead>\n",
       "  <tbody>\n",
       "    <tr>\n",
       "      <th>0</th>\n",
       "      <td>1</td>\n",
       "      <td>A Dijiang</td>\n",
       "      <td>M</td>\n",
       "      <td>24</td>\n",
       "      <td>180</td>\n",
       "      <td>80.0</td>\n",
       "      <td>China</td>\n",
       "      <td>CHN</td>\n",
       "      <td>1992</td>\n",
       "      <td>Basketball</td>\n",
       "      <td>No Medal</td>\n",
       "      <td>No Medal</td>\n",
       "    </tr>\n",
       "    <tr>\n",
       "      <th>1</th>\n",
       "      <td>2</td>\n",
       "      <td>A Lamusi</td>\n",
       "      <td>M</td>\n",
       "      <td>23</td>\n",
       "      <td>170</td>\n",
       "      <td>60.0</td>\n",
       "      <td>China</td>\n",
       "      <td>CHN</td>\n",
       "      <td>2012</td>\n",
       "      <td>Judo</td>\n",
       "      <td>No Medal</td>\n",
       "      <td>No Medal</td>\n",
       "    </tr>\n",
       "    <tr>\n",
       "      <th>2</th>\n",
       "      <td>12</td>\n",
       "      <td>Jyri Tapani Aalto</td>\n",
       "      <td>M</td>\n",
       "      <td>31</td>\n",
       "      <td>172</td>\n",
       "      <td>70.0</td>\n",
       "      <td>Finland</td>\n",
       "      <td>FIN</td>\n",
       "      <td>2000</td>\n",
       "      <td>Badminton</td>\n",
       "      <td>No Medal</td>\n",
       "      <td>No Medal</td>\n",
       "    </tr>\n",
       "    <tr>\n",
       "      <th>3</th>\n",
       "      <td>13</td>\n",
       "      <td>Minna Maarit Aalto</td>\n",
       "      <td>F</td>\n",
       "      <td>30</td>\n",
       "      <td>159</td>\n",
       "      <td>55.5</td>\n",
       "      <td>Finland</td>\n",
       "      <td>FIN</td>\n",
       "      <td>1996</td>\n",
       "      <td>Sailing</td>\n",
       "      <td>No Medal</td>\n",
       "      <td>No Medal</td>\n",
       "    </tr>\n",
       "    <tr>\n",
       "      <th>4</th>\n",
       "      <td>13</td>\n",
       "      <td>Minna Maarit Aalto</td>\n",
       "      <td>F</td>\n",
       "      <td>34</td>\n",
       "      <td>159</td>\n",
       "      <td>55.5</td>\n",
       "      <td>Finland</td>\n",
       "      <td>FIN</td>\n",
       "      <td>2000</td>\n",
       "      <td>Sailing</td>\n",
       "      <td>No Medal</td>\n",
       "      <td>No Medal</td>\n",
       "    </tr>\n",
       "  </tbody>\n",
       "</table>\n",
       "</div>"
      ],
      "text/plain": [
       "   ID                Name Sex  Age  Height  Weight     Team  NOC  Year  \\\n",
       "0   1           A Dijiang   M   24     180    80.0    China  CHN  1992   \n",
       "1   2            A Lamusi   M   23     170    60.0    China  CHN  2012   \n",
       "2  12   Jyri Tapani Aalto   M   31     172    70.0  Finland  FIN  2000   \n",
       "3  13  Minna Maarit Aalto   F   30     159    55.5  Finland  FIN  1996   \n",
       "4  13  Minna Maarit Aalto   F   34     159    55.5  Finland  FIN  2000   \n",
       "\n",
       "        Sport Medal_Type     Medals  \n",
       "0  Basketball    No Medal  No Medal  \n",
       "1        Judo    No Medal  No Medal  \n",
       "2   Badminton    No Medal  No Medal  \n",
       "3     Sailing    No Medal  No Medal  \n",
       "4     Sailing    No Medal  No Medal  "
      ]
     },
     "execution_count": 2,
     "metadata": {},
     "output_type": "execute_result"
    }
   ],
   "source": [
    "olympics_unfiltered = pd.read_csv('Summer_Olympics.csv')\n",
    "olympics_unfiltered.head()"
   ]
  },
  {
   "cell_type": "markdown",
   "metadata": {},
   "source": [
    "# Country Data\n",
    "From the world bank we collected each country's population and GDP after 1960. Due to some limitations of the data, not all countries had available information for each year. \n",
    "\n",
    "* Country\n",
    "* Population\n",
    "* GDP\n"
   ]
  },
  {
   "cell_type": "code",
   "execution_count": 3,
   "metadata": {},
   "outputs": [
    {
     "data": {
      "text/html": [
       "<div>\n",
       "<style scoped>\n",
       "    .dataframe tbody tr th:only-of-type {\n",
       "        vertical-align: middle;\n",
       "    }\n",
       "\n",
       "    .dataframe tbody tr th {\n",
       "        vertical-align: top;\n",
       "    }\n",
       "\n",
       "    .dataframe thead th {\n",
       "        text-align: right;\n",
       "    }\n",
       "</style>\n",
       "<table border=\"1\" class=\"dataframe\">\n",
       "  <thead>\n",
       "    <tr style=\"text-align: right;\">\n",
       "      <th></th>\n",
       "      <th>index</th>\n",
       "      <th>Unnamed: 0</th>\n",
       "      <th>Year</th>\n",
       "      <th>Country</th>\n",
       "      <th>Population</th>\n",
       "      <th>GDP</th>\n",
       "    </tr>\n",
       "  </thead>\n",
       "  <tbody>\n",
       "    <tr>\n",
       "      <th>0</th>\n",
       "      <td>0</td>\n",
       "      <td>0</td>\n",
       "      <td>1960</td>\n",
       "      <td>CHN</td>\n",
       "      <td>667070000.0</td>\n",
       "      <td>59716467625.0</td>\n",
       "    </tr>\n",
       "    <tr>\n",
       "      <th>1</th>\n",
       "      <td>1</td>\n",
       "      <td>1</td>\n",
       "      <td>1960</td>\n",
       "      <td>FIN</td>\n",
       "      <td>4429634.0</td>\n",
       "      <td>5224102196.0</td>\n",
       "    </tr>\n",
       "    <tr>\n",
       "      <th>2</th>\n",
       "      <td>3</td>\n",
       "      <td>3</td>\n",
       "      <td>1960</td>\n",
       "      <td>NOR</td>\n",
       "      <td>3581239.0</td>\n",
       "      <td>5163271598.0</td>\n",
       "    </tr>\n",
       "    <tr>\n",
       "      <th>3</th>\n",
       "      <td>5</td>\n",
       "      <td>5</td>\n",
       "      <td>1960</td>\n",
       "      <td>FRA</td>\n",
       "      <td>46621669.0</td>\n",
       "      <td>62651474947.0</td>\n",
       "    </tr>\n",
       "    <tr>\n",
       "      <th>4</th>\n",
       "      <td>6</td>\n",
       "      <td>6</td>\n",
       "      <td>1960</td>\n",
       "      <td>ESP</td>\n",
       "      <td>30455000.0</td>\n",
       "      <td>12072126075.0</td>\n",
       "    </tr>\n",
       "  </tbody>\n",
       "</table>\n",
       "</div>"
      ],
      "text/plain": [
       "   index  Unnamed: 0  Year Country   Population            GDP\n",
       "0      0           0  1960     CHN  667070000.0  59716467625.0\n",
       "1      1           1  1960     FIN    4429634.0   5224102196.0\n",
       "2      3           3  1960     NOR    3581239.0   5163271598.0\n",
       "3      5           5  1960     FRA   46621669.0  62651474947.0\n",
       "4      6           6  1960     ESP   30455000.0  12072126075.0"
      ]
     },
     "execution_count": 3,
     "metadata": {},
     "output_type": "execute_result"
    }
   ],
   "source": [
    "country_df = pd.read_csv(\"Population_&_GDP_by_Year.csv\")\n",
    "country_df.head()\n",
    "\n",
    "country_df = country_df[country_df.GDP != \"..\"].reset_index()\n",
    "country_df.head()"
   ]
  },
  {
   "cell_type": "markdown",
   "metadata": {},
   "source": [
    "# Merging the Datasets\n",
    "\n",
    "\n",
    "We merged the dataframes using the country and year as the identifying keys.\n",
    "\n",
    "Because we do not have data before 1960 for GDP and Population we filtered the Olympic data to the Games held in 1960 and after.\n"
   ]
  },
  {
   "cell_type": "code",
   "execution_count": 4,
   "metadata": {},
   "outputs": [],
   "source": [
    "olympics_filtered = olympics_unfiltered[olympics_unfiltered[\"Year\"] > 1960].reset_index()\n",
    "olympics_filtered = olympics_unfiltered[olympics_unfiltered[\"Sport\"] != \"Art Competitions\"].reset_index()"
   ]
  },
  {
   "cell_type": "code",
   "execution_count": 7,
   "metadata": {},
   "outputs": [
    {
     "data": {
      "text/html": [
       "<div>\n",
       "<style scoped>\n",
       "    .dataframe tbody tr th:only-of-type {\n",
       "        vertical-align: middle;\n",
       "    }\n",
       "\n",
       "    .dataframe tbody tr th {\n",
       "        vertical-align: top;\n",
       "    }\n",
       "\n",
       "    .dataframe thead th {\n",
       "        text-align: right;\n",
       "    }\n",
       "</style>\n",
       "<table border=\"1\" class=\"dataframe\">\n",
       "  <thead>\n",
       "    <tr style=\"text-align: right;\">\n",
       "      <th></th>\n",
       "      <th>index_x</th>\n",
       "      <th>Unnamed: 0</th>\n",
       "      <th>Year</th>\n",
       "      <th>Country</th>\n",
       "      <th>Population</th>\n",
       "      <th>GDP</th>\n",
       "      <th>index_y</th>\n",
       "      <th>ID</th>\n",
       "      <th>Name</th>\n",
       "      <th>Sex</th>\n",
       "      <th>Age</th>\n",
       "      <th>Height</th>\n",
       "      <th>Weight</th>\n",
       "      <th>Team</th>\n",
       "      <th>NOC</th>\n",
       "      <th>Sport</th>\n",
       "      <th>Medal_Type</th>\n",
       "      <th>Medals</th>\n",
       "    </tr>\n",
       "  </thead>\n",
       "  <tbody>\n",
       "    <tr>\n",
       "      <th>0</th>\n",
       "      <td>1.0</td>\n",
       "      <td>1.0</td>\n",
       "      <td>1960</td>\n",
       "      <td>FIN</td>\n",
       "      <td>4429634.0</td>\n",
       "      <td>5224102196.0</td>\n",
       "      <td>1618</td>\n",
       "      <td>1427</td>\n",
       "      <td>Matti Olavi Aho</td>\n",
       "      <td>M</td>\n",
       "      <td>26</td>\n",
       "      <td>181</td>\n",
       "      <td>82.5</td>\n",
       "      <td>Finland</td>\n",
       "      <td>FIN</td>\n",
       "      <td>Boxing</td>\n",
       "      <td>No Medal</td>\n",
       "      <td>No Medal</td>\n",
       "    </tr>\n",
       "    <tr>\n",
       "      <th>1</th>\n",
       "      <td>1.0</td>\n",
       "      <td>1.0</td>\n",
       "      <td>1960</td>\n",
       "      <td>FIN</td>\n",
       "      <td>4429634.0</td>\n",
       "      <td>5224102196.0</td>\n",
       "      <td>1623</td>\n",
       "      <td>1431</td>\n",
       "      <td>Viljo Johannes Aho</td>\n",
       "      <td>M</td>\n",
       "      <td>27</td>\n",
       "      <td>174</td>\n",
       "      <td>68.5</td>\n",
       "      <td>Finland</td>\n",
       "      <td>FIN</td>\n",
       "      <td>Boxing</td>\n",
       "      <td>No Medal</td>\n",
       "      <td>No Medal</td>\n",
       "    </tr>\n",
       "    <tr>\n",
       "      <th>2</th>\n",
       "      <td>1.0</td>\n",
       "      <td>1.0</td>\n",
       "      <td>1960</td>\n",
       "      <td>FIN</td>\n",
       "      <td>4429634.0</td>\n",
       "      <td>5224102196.0</td>\n",
       "      <td>1654</td>\n",
       "      <td>1461</td>\n",
       "      <td>Viktor Ahven</td>\n",
       "      <td>M</td>\n",
       "      <td>31</td>\n",
       "      <td>187</td>\n",
       "      <td>103.0</td>\n",
       "      <td>Finland</td>\n",
       "      <td>FIN</td>\n",
       "      <td>Wrestling</td>\n",
       "      <td>No Medal</td>\n",
       "      <td>No Medal</td>\n",
       "    </tr>\n",
       "    <tr>\n",
       "      <th>3</th>\n",
       "      <td>1.0</td>\n",
       "      <td>1.0</td>\n",
       "      <td>1960</td>\n",
       "      <td>FIN</td>\n",
       "      <td>4429634.0</td>\n",
       "      <td>5224102196.0</td>\n",
       "      <td>1867</td>\n",
       "      <td>1614</td>\n",
       "      <td>Rainer Robert kerfelt</td>\n",
       "      <td>M</td>\n",
       "      <td>25</td>\n",
       "      <td>177</td>\n",
       "      <td>74.0</td>\n",
       "      <td>Finland</td>\n",
       "      <td>FIN</td>\n",
       "      <td>Canoeing</td>\n",
       "      <td>No Medal</td>\n",
       "      <td>No Medal</td>\n",
       "    </tr>\n",
       "    <tr>\n",
       "      <th>4</th>\n",
       "      <td>1.0</td>\n",
       "      <td>1.0</td>\n",
       "      <td>1960</td>\n",
       "      <td>FIN</td>\n",
       "      <td>4429634.0</td>\n",
       "      <td>5224102196.0</td>\n",
       "      <td>1868</td>\n",
       "      <td>1615</td>\n",
       "      <td>Rolf Rafael kerfelt</td>\n",
       "      <td>M</td>\n",
       "      <td>19</td>\n",
       "      <td>180</td>\n",
       "      <td>73.0</td>\n",
       "      <td>Finland</td>\n",
       "      <td>FIN</td>\n",
       "      <td>Canoeing</td>\n",
       "      <td>No Medal</td>\n",
       "      <td>No Medal</td>\n",
       "    </tr>\n",
       "  </tbody>\n",
       "</table>\n",
       "</div>"
      ],
      "text/plain": [
       "   index_x  Unnamed: 0  Year Country Population           GDP  index_y    ID  \\\n",
       "0      1.0         1.0  1960     FIN  4429634.0  5224102196.0     1618  1427   \n",
       "1      1.0         1.0  1960     FIN  4429634.0  5224102196.0     1623  1431   \n",
       "2      1.0         1.0  1960     FIN  4429634.0  5224102196.0     1654  1461   \n",
       "3      1.0         1.0  1960     FIN  4429634.0  5224102196.0     1867  1614   \n",
       "4      1.0         1.0  1960     FIN  4429634.0  5224102196.0     1868  1615   \n",
       "\n",
       "                    Name Sex  Age  Height  Weight     Team  NOC      Sport  \\\n",
       "0        Matti Olavi Aho   M   26     181    82.5  Finland  FIN     Boxing   \n",
       "1     Viljo Johannes Aho   M   27     174    68.5  Finland  FIN     Boxing   \n",
       "2           Viktor Ahven   M   31     187   103.0  Finland  FIN  Wrestling   \n",
       "3  Rainer Robert kerfelt   M   25     177    74.0  Finland  FIN   Canoeing   \n",
       "4    Rolf Rafael kerfelt   M   19     180    73.0  Finland  FIN   Canoeing   \n",
       "\n",
       "  Medal_Type     Medals  \n",
       "0    No Medal  No Medal  \n",
       "1    No Medal  No Medal  \n",
       "2    No Medal  No Medal  \n",
       "3    No Medal  No Medal  \n",
       "4    No Medal  No Medal  "
      ]
     },
     "execution_count": 7,
     "metadata": {},
     "output_type": "execute_result"
    }
   ],
   "source": [
    "olympics_df = pd.merge(country_df, olympics_filtered, how='right', left_on=[\"Year\", \"Country\"], right_on= [\"Year\", \"NOC\"])\n",
    "olympics_df.head()"
   ]
  },
  {
   "cell_type": "code",
   "execution_count": 8,
   "metadata": {},
   "outputs": [
    {
     "data": {
      "text/html": [
       "<div>\n",
       "<style scoped>\n",
       "    .dataframe tbody tr th:only-of-type {\n",
       "        vertical-align: middle;\n",
       "    }\n",
       "\n",
       "    .dataframe tbody tr th {\n",
       "        vertical-align: top;\n",
       "    }\n",
       "\n",
       "    .dataframe thead th {\n",
       "        text-align: right;\n",
       "    }\n",
       "</style>\n",
       "<table border=\"1\" class=\"dataframe\">\n",
       "  <thead>\n",
       "    <tr style=\"text-align: right;\">\n",
       "      <th></th>\n",
       "      <th>Sex</th>\n",
       "      <th>Age</th>\n",
       "      <th>Height</th>\n",
       "      <th>Weight</th>\n",
       "      <th>Year</th>\n",
       "      <th>Sport</th>\n",
       "      <th>Medals</th>\n",
       "      <th>NOC</th>\n",
       "      <th>GDP</th>\n",
       "      <th>Population</th>\n",
       "    </tr>\n",
       "  </thead>\n",
       "  <tbody>\n",
       "    <tr>\n",
       "      <th>0</th>\n",
       "      <td>M</td>\n",
       "      <td>26</td>\n",
       "      <td>181</td>\n",
       "      <td>82.5</td>\n",
       "      <td>1960</td>\n",
       "      <td>Boxing</td>\n",
       "      <td>No Medal</td>\n",
       "      <td>FIN</td>\n",
       "      <td>5224102196.0</td>\n",
       "      <td>4429634.0</td>\n",
       "    </tr>\n",
       "    <tr>\n",
       "      <th>1</th>\n",
       "      <td>M</td>\n",
       "      <td>27</td>\n",
       "      <td>174</td>\n",
       "      <td>68.5</td>\n",
       "      <td>1960</td>\n",
       "      <td>Boxing</td>\n",
       "      <td>No Medal</td>\n",
       "      <td>FIN</td>\n",
       "      <td>5224102196.0</td>\n",
       "      <td>4429634.0</td>\n",
       "    </tr>\n",
       "    <tr>\n",
       "      <th>2</th>\n",
       "      <td>M</td>\n",
       "      <td>31</td>\n",
       "      <td>187</td>\n",
       "      <td>103.0</td>\n",
       "      <td>1960</td>\n",
       "      <td>Wrestling</td>\n",
       "      <td>No Medal</td>\n",
       "      <td>FIN</td>\n",
       "      <td>5224102196.0</td>\n",
       "      <td>4429634.0</td>\n",
       "    </tr>\n",
       "    <tr>\n",
       "      <th>3</th>\n",
       "      <td>M</td>\n",
       "      <td>25</td>\n",
       "      <td>177</td>\n",
       "      <td>74.0</td>\n",
       "      <td>1960</td>\n",
       "      <td>Canoeing</td>\n",
       "      <td>No Medal</td>\n",
       "      <td>FIN</td>\n",
       "      <td>5224102196.0</td>\n",
       "      <td>4429634.0</td>\n",
       "    </tr>\n",
       "    <tr>\n",
       "      <th>4</th>\n",
       "      <td>M</td>\n",
       "      <td>19</td>\n",
       "      <td>180</td>\n",
       "      <td>73.0</td>\n",
       "      <td>1960</td>\n",
       "      <td>Canoeing</td>\n",
       "      <td>No Medal</td>\n",
       "      <td>FIN</td>\n",
       "      <td>5224102196.0</td>\n",
       "      <td>4429634.0</td>\n",
       "    </tr>\n",
       "  </tbody>\n",
       "</table>\n",
       "</div>"
      ],
      "text/plain": [
       "  Sex  Age  Height  Weight  Year      Sport    Medals  NOC           GDP  \\\n",
       "0   M   26     181    82.5  1960     Boxing  No Medal  FIN  5224102196.0   \n",
       "1   M   27     174    68.5  1960     Boxing  No Medal  FIN  5224102196.0   \n",
       "2   M   31     187   103.0  1960  Wrestling  No Medal  FIN  5224102196.0   \n",
       "3   M   25     177    74.0  1960   Canoeing  No Medal  FIN  5224102196.0   \n",
       "4   M   19     180    73.0  1960   Canoeing  No Medal  FIN  5224102196.0   \n",
       "\n",
       "  Population  \n",
       "0  4429634.0  \n",
       "1  4429634.0  \n",
       "2  4429634.0  \n",
       "3  4429634.0  \n",
       "4  4429634.0  "
      ]
     },
     "execution_count": 8,
     "metadata": {},
     "output_type": "execute_result"
    }
   ],
   "source": [
    "physical_event_country_df = olympics_df[[\"Sex\", \"Age\", \"Height\", \"Weight\", \"Year\", \"Sport\", \"Medals\", \"NOC\", \"GDP\", \"Population\"]]\n",
    "physical_event_country_df.head()"
   ]
  },
  {
   "cell_type": "markdown",
   "metadata": {
    "slideshow": {
     "slide_type": "subslide"
    }
   },
   "source": [
    "## Data Pre-Processing Medal"
   ]
  },
  {
   "cell_type": "code",
   "execution_count": 9,
   "metadata": {},
   "outputs": [
    {
     "name": "stdout",
     "output_type": "stream",
     "text": [
      "(166677, 9) (166677,)\n"
     ]
    }
   ],
   "source": [
    "X = physical_event_country_df.drop(\"Medals\", axis=1)\n",
    "y = physical_event_country_df[\"Medals\"]\n",
    "print(X.shape, y.shape)"
   ]
  },
  {
   "cell_type": "code",
   "execution_count": 10,
   "metadata": {},
   "outputs": [
    {
     "data": {
      "text/plain": [
       "(166677, 2559)"
      ]
     },
     "execution_count": 10,
     "metadata": {},
     "output_type": "execute_result"
    }
   ],
   "source": [
    "X = pd.get_dummies(X)\n",
    "X.head()\n",
    "X.shape"
   ]
  },
  {
   "cell_type": "markdown",
   "metadata": {
    "slideshow": {
     "slide_type": "slide"
    }
   },
   "source": [
    "## Dependencies"
   ]
  },
  {
   "cell_type": "code",
   "execution_count": 11,
   "metadata": {},
   "outputs": [
    {
     "name": "stderr",
     "output_type": "stream",
     "text": [
      "Using TensorFlow backend.\n"
     ]
    }
   ],
   "source": [
    "import tensorflow.keras\n",
    "from sklearn.preprocessing import *\n",
    "from keras.models import Sequential\n",
    "from keras.utils import to_categorical\n",
    "from tensorflow.keras.layers import Dense\n",
    "from sklearn.model_selection import train_test_split\n",
    "from tensorflow.keras.utils import to_categorical"
   ]
  },
  {
   "cell_type": "code",
   "execution_count": 34,
   "metadata": {},
   "outputs": [],
   "source": [
    "X_train, X_test, y_train, y_test = train_test_split(\n",
    "    X, y, random_state=1, stratify=y)"
   ]
  },
  {
   "cell_type": "markdown",
   "metadata": {
    "slideshow": {
     "slide_type": "slide"
    }
   },
   "source": [
    "## One-hot encode the labels"
   ]
  },
  {
   "cell_type": "code",
   "execution_count": 35,
   "metadata": {},
   "outputs": [
    {
     "data": {
      "text/plain": [
       "125007"
      ]
     },
     "execution_count": 35,
     "metadata": {},
     "output_type": "execute_result"
    }
   ],
   "source": [
    "## y_train Encoder\n",
    "label_encoder = LabelEncoder()\n",
    "label_encoder.fit(y_train)\n",
    "encoded_y = label_encoder.transform(y_train)\n",
    "len(encoded_y)"
   ]
  },
  {
   "cell_type": "code",
   "execution_count": 36,
   "metadata": {},
   "outputs": [
    {
     "data": {
      "text/plain": [
       "125007"
      ]
     },
     "execution_count": 36,
     "metadata": {},
     "output_type": "execute_result"
    }
   ],
   "source": [
    "one_hot_y = to_categorical(encoded_y)\n",
    "len(one_hot_y)"
   ]
  },
  {
   "cell_type": "code",
   "execution_count": 37,
   "metadata": {},
   "outputs": [
    {
     "data": {
      "text/plain": [
       "41670"
      ]
     },
     "execution_count": 37,
     "metadata": {},
     "output_type": "execute_result"
    }
   ],
   "source": [
    "## y_test Encoder\n",
    "label_encoder = LabelEncoder()\n",
    "label_encoder.fit(y_test)\n",
    "encoded_y_test = label_encoder.transform(y_test)\n",
    "len(encoded_y_test)"
   ]
  },
  {
   "cell_type": "code",
   "execution_count": 38,
   "metadata": {},
   "outputs": [
    {
     "data": {
      "text/plain": [
       "41670"
      ]
     },
     "execution_count": 38,
     "metadata": {},
     "output_type": "execute_result"
    }
   ],
   "source": [
    "one_hot_y_test = to_categorical(encoded_y_test)\n",
    "len(one_hot_y_test)"
   ]
  },
  {
   "cell_type": "markdown",
   "metadata": {},
   "source": [
    "# Create a Deep Learning Model"
   ]
  },
  {
   "cell_type": "code",
   "execution_count": 39,
   "metadata": {},
   "outputs": [
    {
     "name": "stderr",
     "output_type": "stream",
     "text": [
      "/anaconda3/envs/PythonData/lib/python3.6/site-packages/sklearn/preprocessing/data.py:334: DataConversionWarning: Data with input dtype uint8, int64, float64 were all converted to float64 by MinMaxScaler.\n",
      "  return self.partial_fit(X, y)\n"
     ]
    }
   ],
   "source": [
    "#Scale the Dataset\n",
    "X_scaler = MinMaxScaler().fit(X_train)\n",
    "X_train_scaled = X_scaler.transform(X_train)\n",
    "X_test_scaled = X_scaler.transform(X_test)"
   ]
  },
  {
   "cell_type": "code",
   "execution_count": 18,
   "metadata": {},
   "outputs": [
    {
     "name": "stdout",
     "output_type": "stream",
     "text": [
      "WARNING:tensorflow:From /anaconda3/envs/PythonData/lib/python3.6/site-packages/tensorflow/python/ops/init_ops.py:1251: calling VarianceScaling.__init__ (from tensorflow.python.ops.init_ops) with dtype is deprecated and will be removed in a future version.\n",
      "Instructions for updating:\n",
      "Call initializer instance with the dtype argument instead of passing it to the constructor\n"
     ]
    }
   ],
   "source": [
    "#Create the Model\n",
    "model = tensorflow.keras.Sequential()\n",
    "model.add(Dense(units=300, activation='relu', input_dim=2559))\n",
    "model.add(Dense(units=200, activation='relu'))\n",
    "model.add(Dense(units=2, activation='softmax'))"
   ]
  },
  {
   "cell_type": "code",
   "execution_count": 19,
   "metadata": {},
   "outputs": [
    {
     "name": "stdout",
     "output_type": "stream",
     "text": [
      "Model: \"sequential\"\n",
      "_________________________________________________________________\n",
      "Layer (type)                 Output Shape              Param #   \n",
      "=================================================================\n",
      "dense (Dense)                (None, 300)               768000    \n",
      "_________________________________________________________________\n",
      "dense_1 (Dense)              (None, 200)               60200     \n",
      "_________________________________________________________________\n",
      "dense_2 (Dense)              (None, 2)                 402       \n",
      "=================================================================\n",
      "Total params: 828,602\n",
      "Trainable params: 828,602\n",
      "Non-trainable params: 0\n",
      "_________________________________________________________________\n"
     ]
    }
   ],
   "source": [
    "# Compile the model\n",
    "model.compile(optimizer='adam',\n",
    "              loss='categorical_crossentropy',\n",
    "              metrics=['accuracy'])\n",
    "model.summary()"
   ]
  },
  {
   "cell_type": "code",
   "execution_count": 20,
   "metadata": {},
   "outputs": [
    {
     "name": "stdout",
     "output_type": "stream",
     "text": [
      "Epoch 1/10\n",
      "125007/125007 - 28s - loss: 0.3293 - acc: 0.8714\n",
      "Epoch 2/10\n",
      "125007/125007 - 29s - loss: 0.2731 - acc: 0.8895\n",
      "Epoch 3/10\n",
      "125007/125007 - 30s - loss: 0.2579 - acc: 0.8925\n",
      "Epoch 4/10\n",
      "125007/125007 - 29s - loss: 0.2497 - acc: 0.8938\n",
      "Epoch 5/10\n",
      "125007/125007 - 29s - loss: 0.2437 - acc: 0.8952\n",
      "Epoch 6/10\n",
      "125007/125007 - 29s - loss: 0.2395 - acc: 0.8961\n",
      "Epoch 7/10\n",
      "125007/125007 - 28s - loss: 0.2361 - acc: 0.8964\n",
      "Epoch 8/10\n",
      "125007/125007 - 29s - loss: 0.2340 - acc: 0.8971\n",
      "Epoch 9/10\n",
      "125007/125007 - 29s - loss: 0.2313 - acc: 0.8978\n",
      "Epoch 10/10\n",
      "125007/125007 - 29s - loss: 0.2296 - acc: 0.8981\n"
     ]
    },
    {
     "data": {
      "text/plain": [
       "<tensorflow.python.keras.callbacks.History at 0xb37274a58>"
      ]
     },
     "execution_count": 20,
     "metadata": {},
     "output_type": "execute_result"
    }
   ],
   "source": [
    "# Fit the model\n",
    "model.fit(\n",
    "    X_train_scaled,\n",
    "    one_hot_y,\n",
    "    epochs=10,\n",
    "    shuffle=True,\n",
    "    verbose=2,)"
   ]
  },
  {
   "cell_type": "code",
   "execution_count": 22,
   "metadata": {},
   "outputs": [
    {
     "name": "stdout",
     "output_type": "stream",
     "text": [
      "41670/41670 - 5s - loss: 0.2827 - acc: 0.8919\n",
      "Normal Neural Network - Loss: 0.2827485149001686, Accuracy: 0.8918886780738831\n"
     ]
    }
   ],
   "source": [
    "model_loss, model_accuracy = model.evaluate(\n",
    "    X_test_scaled, one_hot_y_test, verbose=2)\n",
    "print(\n",
    "    f\"Normal Neural Network - Loss: {model_loss}, Accuracy: {model_accuracy}\")"
   ]
  },
  {
   "cell_type": "code",
   "execution_count": 24,
   "metadata": {},
   "outputs": [],
   "source": [
    "## https://www.tensorflow.org/model_optimization/guide/pruning/pruning_with_keras\n",
    "import tensorflow_model_optimization as tfmot"
   ]
  },
  {
   "cell_type": "code",
   "execution_count": 40,
   "metadata": {},
   "outputs": [
    {
     "name": "stdout",
     "output_type": "stream",
     "text": [
      "WARNING:tensorflow:Entity <bound method PruneLowMagnitude.call of <tensorflow_model_optimization.python.core.sparsity.keras.pruning_wrapper.PruneLowMagnitude object at 0xb59bfe898>> could not be transformed and will be executed as-is. Please report this to the AutgoGraph team. When filing the bug, set the verbosity to 10 (on Linux, `export AUTOGRAPH_VERBOSITY=10`) and attach the full output. Cause: converting <bound method PruneLowMagnitude.call of <tensorflow_model_optimization.python.core.sparsity.keras.pruning_wrapper.PruneLowMagnitude object at 0xb59bfe898>>: AssertionError: Bad argument number for Name: 3, expecting 4\n",
      "WARNING: Entity <bound method PruneLowMagnitude.call of <tensorflow_model_optimization.python.core.sparsity.keras.pruning_wrapper.PruneLowMagnitude object at 0xb59bfe898>> could not be transformed and will be executed as-is. Please report this to the AutgoGraph team. When filing the bug, set the verbosity to 10 (on Linux, `export AUTOGRAPH_VERBOSITY=10`) and attach the full output. Cause: converting <bound method PruneLowMagnitude.call of <tensorflow_model_optimization.python.core.sparsity.keras.pruning_wrapper.PruneLowMagnitude object at 0xb59bfe898>>: AssertionError: Bad argument number for Name: 3, expecting 4\n",
      "WARNING:tensorflow:Entity <bound method PruneLowMagnitude.call of <tensorflow_model_optimization.python.core.sparsity.keras.pruning_wrapper.PruneLowMagnitude object at 0x120da0208>> could not be transformed and will be executed as-is. Please report this to the AutgoGraph team. When filing the bug, set the verbosity to 10 (on Linux, `export AUTOGRAPH_VERBOSITY=10`) and attach the full output. Cause: converting <bound method PruneLowMagnitude.call of <tensorflow_model_optimization.python.core.sparsity.keras.pruning_wrapper.PruneLowMagnitude object at 0x120da0208>>: AssertionError: Bad argument number for Name: 3, expecting 4\n",
      "WARNING: Entity <bound method PruneLowMagnitude.call of <tensorflow_model_optimization.python.core.sparsity.keras.pruning_wrapper.PruneLowMagnitude object at 0x120da0208>> could not be transformed and will be executed as-is. Please report this to the AutgoGraph team. When filing the bug, set the verbosity to 10 (on Linux, `export AUTOGRAPH_VERBOSITY=10`) and attach the full output. Cause: converting <bound method PruneLowMagnitude.call of <tensorflow_model_optimization.python.core.sparsity.keras.pruning_wrapper.PruneLowMagnitude object at 0x120da0208>>: AssertionError: Bad argument number for Name: 3, expecting 4\n",
      "WARNING:tensorflow:Entity <bound method PruneLowMagnitude.call of <tensorflow_model_optimization.python.core.sparsity.keras.pruning_wrapper.PruneLowMagnitude object at 0x120da04e0>> could not be transformed and will be executed as-is. Please report this to the AutgoGraph team. When filing the bug, set the verbosity to 10 (on Linux, `export AUTOGRAPH_VERBOSITY=10`) and attach the full output. Cause: converting <bound method PruneLowMagnitude.call of <tensorflow_model_optimization.python.core.sparsity.keras.pruning_wrapper.PruneLowMagnitude object at 0x120da04e0>>: AssertionError: Bad argument number for Name: 3, expecting 4\n",
      "WARNING: Entity <bound method PruneLowMagnitude.call of <tensorflow_model_optimization.python.core.sparsity.keras.pruning_wrapper.PruneLowMagnitude object at 0x120da04e0>> could not be transformed and will be executed as-is. Please report this to the AutgoGraph team. When filing the bug, set the verbosity to 10 (on Linux, `export AUTOGRAPH_VERBOSITY=10`) and attach the full output. Cause: converting <bound method PruneLowMagnitude.call of <tensorflow_model_optimization.python.core.sparsity.keras.pruning_wrapper.PruneLowMagnitude object at 0x120da04e0>>: AssertionError: Bad argument number for Name: 3, expecting 4\n"
     ]
    }
   ],
   "source": [
    "pruning_schedule = tfmot.sparsity.keras.PolynomialDecay(\n",
    "                        initial_sparsity=0.5, final_sparsity=.9,\n",
    "                        begin_step=1000, end_step=5000)\n",
    "\n",
    "model_for_pruning = tfmot.sparsity.keras.prune_low_magnitude(model, pruning_schedule=pruning_schedule)"
   ]
  },
  {
   "cell_type": "code",
   "execution_count": 41,
   "metadata": {},
   "outputs": [],
   "source": [
    "model_for_pruning.compile(optimizer='adam',\n",
    "              loss='categorical_crossentropy',\n",
    "              metrics=['accuracy'])"
   ]
  },
  {
   "cell_type": "code",
   "execution_count": null,
   "metadata": {},
   "outputs": [],
   "source": [
    "model_for_pruning.fit(\n",
    "    X_train_scaled,\n",
    "    one_hot_y,\n",
    "    batch_size=4000,\n",
    "    epochs=2,\n",
    "    shuffle=True,\n",
    "    verbose=1,\n",
    "    validation_data=(X_test_scaled, one_hot_y_test)\n",
    ")"
   ]
  }
 ],
 "metadata": {
  "kernelspec": {
   "display_name": "Python 3",
   "language": "python",
   "name": "python3"
  },
  "language_info": {
   "codemirror_mode": {
    "name": "ipython",
    "version": 3
   },
   "file_extension": ".py",
   "mimetype": "text/x-python",
   "name": "python",
   "nbconvert_exporter": "python",
   "pygments_lexer": "ipython3",
   "version": "3.6.8"
  }
 },
 "nbformat": 4,
 "nbformat_minor": 2
}
